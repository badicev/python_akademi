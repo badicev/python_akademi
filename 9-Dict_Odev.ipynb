{
 "cells": [
  {
   "cell_type": "markdown",
   "metadata": {},
   "source": [
    "* İşlenmiş olan all_data içerisinde her kelimeden kaç adet geçtiği bulunacak ve bir dictionary de tutulacak. dict = {'anasayfa':6, 'belediye':78}\n",
    "* En sık kullanılan 100 kelimeyi ekranda göster\n",
    "\n",
    "islenmis        İ S L E N M İ S\n",
    "olan            O L A N\n",
    "alldata         A L L D A T A\n",
    "icerisinde      İ C E R İ S İ N D E"
   ]
  }
 ],
 "metadata": {
  "kernelspec": {
   "display_name": "Python 3.8.5 ('base')",
   "language": "python",
   "name": "python3"
  },
  "language_info": {
   "name": "python",
   "version": "3.8.5"
  },
  "orig_nbformat": 4,
  "vscode": {
   "interpreter": {
    "hash": "85849ef95885899d47daeff0f578b9f8af82a26ba4d539bff16a3c227f835db9"
   }
  }
 },
 "nbformat": 4,
 "nbformat_minor": 2
}
